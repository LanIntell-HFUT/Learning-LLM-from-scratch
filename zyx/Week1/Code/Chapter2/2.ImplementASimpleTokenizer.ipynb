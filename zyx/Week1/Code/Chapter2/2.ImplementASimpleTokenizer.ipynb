{
 "cells": [
  {
   "cell_type": "markdown",
   "id": "dd26349f-4baf-45b5-bb9c-9e6293300e2b",
   "metadata": {},
   "source": [
    "读取TXT文件，统计文件字符数并打印前100个字符"
   ]
  },
  {
   "cell_type": "code",
   "execution_count": 1,
   "id": "0426cac2-d5d9-476b-b084-3eccaec69090",
   "metadata": {},
   "outputs": [
    {
     "name": "stdout",
     "output_type": "stream",
     "text": [
      "Total number of character: 20479\n",
      "I HAD always thought Jack Gisburn rather a cheap genius--though a good fellow enough--so it was no \n"
     ]
    }
   ],
   "source": [
    "with open(\"the-verdict.txt\", \"r\", encoding=\"utf-8\") as f:    \n",
    "    raw_text = f.read() \n",
    "\n",
    "print(\"Total number of character:\", len(raw_text)) \n",
    "print(raw_text[:99])"
   ]
  },
  {
   "cell_type": "markdown",
   "id": "d29d4c41-141a-4681-9911-f25e3702bf63",
   "metadata": {},
   "source": [
    "测试正则语法库re"
   ]
  },
  {
   "cell_type": "code",
   "execution_count": 3,
   "id": "f9afe4b9-b667-4456-9aa4-7b96657dcbf3",
   "metadata": {},
   "outputs": [
    {
     "name": "stdout",
     "output_type": "stream",
     "text": [
      "['Hello,', ' ', 'world.', ' ', 'This,', ' ', 'is', ' ', 'a', ' ', 'test.']\n"
     ]
    }
   ],
   "source": [
    "import re \n",
    "\n",
    "text = \"Hello, world. This, is a test.\" \n",
    "result = re.split(r'(\\s)', text) \n",
    "\n",
    "print(result)"
   ]
  },
  {
   "cell_type": "markdown",
   "id": "a2c0394a-b4a9-422c-ad91-cd649006165a",
   "metadata": {},
   "source": [
    "修改空格（\\s）、逗号和句点（[,.]）上的正则表达式拆分"
   ]
  },
  {
   "cell_type": "code",
   "execution_count": 4,
   "id": "47e27532-e0e5-4b1d-8215-36ea04dfffd3",
   "metadata": {},
   "outputs": [
    {
     "name": "stdout",
     "output_type": "stream",
     "text": [
      "['Hello', ',', '', ' ', 'world', '.', '', ' ', 'This', ',', '', ' ', 'is', ' ', 'a', ' ', 'test', '.', '']\n"
     ]
    }
   ],
   "source": [
    "result = re.split(r'([,.]|\\s)', text) \n",
    "\n",
    "print(result)"
   ]
  },
  {
   "cell_type": "markdown",
   "id": "387b6231-0a9a-4456-b623-db613692ae8b",
   "metadata": {},
   "source": [
    "安全删除冗余空格字符"
   ]
  },
  {
   "cell_type": "code",
   "execution_count": 5,
   "id": "d3a3eed7-17da-412e-bffa-9925fbec09f9",
   "metadata": {},
   "outputs": [
    {
     "name": "stdout",
     "output_type": "stream",
     "text": [
      "['Hello', ',', 'world', '.', 'This', ',', 'is', 'a', 'test', '.']\n"
     ]
    }
   ],
   "source": [
    "result = [item for item in result if item.strip()] \n",
    "\n",
    "print(result)"
   ]
  },
  {
   "cell_type": "markdown",
   "id": "d800f357-6850-43d8-9094-b7fd622158d1",
   "metadata": {},
   "source": [
    "处理更多类型的字符"
   ]
  },
  {
   "cell_type": "code",
   "execution_count": 6,
   "id": "35cb6ab7-fc12-4387-9415-2f979c09f39e",
   "metadata": {},
   "outputs": [
    {
     "name": "stdout",
     "output_type": "stream",
     "text": [
      "['Hello', ',', 'world', '.', 'Is', 'this', '--', 'a', 'test', '?']\n"
     ]
    }
   ],
   "source": [
    "text = \"Hello, world. Is this-- a test?\" \n",
    "\n",
    "result = re.split(r'([,.:;?_!\"()\\']|--|\\s)', text)\n",
    "\n",
    "result = [item.strip() for item in result if item.strip()] \n",
    "\n",
    "print(result)"
   ]
  },
  {
   "cell_type": "markdown",
   "id": "45bb226c-c9b9-42b9-a795-c624acec3e70",
   "metadata": {},
   "source": [
    "使用简单编码器编码整篇小说"
   ]
  },
  {
   "cell_type": "code",
   "execution_count": 8,
   "id": "d38d3bb7-884e-41d9-9e80-7c1878a84b59",
   "metadata": {},
   "outputs": [
    {
     "name": "stdout",
     "output_type": "stream",
     "text": [
      "4690\n"
     ]
    }
   ],
   "source": [
    "preprocessed = re.split(r'([,.:;?_!\"()\\']|--|\\s)', raw_text) \n",
    "\n",
    "preprocessed = [item.strip() for item in preprocessed if item.strip()] \n",
    "\n",
    "print(len(preprocessed))"
   ]
  },
  {
   "cell_type": "markdown",
   "id": "8d93dc88-dc29-409c-88f1-603dd97dba0d",
   "metadata": {},
   "source": [
    "打印查看前30个tokens"
   ]
  },
  {
   "cell_type": "code",
   "execution_count": 9,
   "id": "a3231aeb-01dd-4b37-adea-b6875edbbf8e",
   "metadata": {},
   "outputs": [
    {
     "name": "stdout",
     "output_type": "stream",
     "text": [
      "['I', 'HAD', 'always', 'thought', 'Jack', 'Gisburn', 'rather', 'a', 'cheap', 'genius', '--', 'though', 'a', 'good', 'fellow', 'enough', '--', 'so', 'it', 'was', 'no', 'great', 'surprise', 'to', 'me', 'to', 'hear', 'that', ',', 'in']\n"
     ]
    }
   ],
   "source": [
    "print(preprocessed[:30])"
   ]
  },
  {
   "cell_type": "markdown",
   "id": "16c7c7ab-c30f-4bf0-a9ea-ca6c16277f72",
   "metadata": {},
   "source": [
    "将编码后的tokens映射为唯一整数（token ID）"
   ]
  },
  {
   "cell_type": "code",
   "execution_count": 11,
   "id": "c2b868bb-5c07-4490-8e18-d29b277e6a71",
   "metadata": {},
   "outputs": [
    {
     "name": "stdout",
     "output_type": "stream",
     "text": [
      "1130\n"
     ]
    }
   ],
   "source": [
    "all_words = sorted(set(preprocessed)) \n",
    "\n",
    "vocab_size = len(all_words) \n",
    "\n",
    "print(vocab_size)"
   ]
  },
  {
   "cell_type": "markdown",
   "id": "126fb336-9388-485b-a50c-f30f7fb94e54",
   "metadata": {},
   "source": [
    "创建词汇表并打印前51个条目"
   ]
  },
  {
   "cell_type": "code",
   "execution_count": 12,
   "id": "915ac90e-8c0f-4b97-ab10-57ccfcf4ee01",
   "metadata": {},
   "outputs": [
    {
     "name": "stdout",
     "output_type": "stream",
     "text": [
      "('!', 0)\n",
      "('\"', 1)\n",
      "(\"'\", 2)\n",
      "('(', 3)\n",
      "(')', 4)\n",
      "(',', 5)\n",
      "('--', 6)\n",
      "('.', 7)\n",
      "(':', 8)\n",
      "(';', 9)\n",
      "('?', 10)\n",
      "('A', 11)\n",
      "('Ah', 12)\n",
      "('Among', 13)\n",
      "('And', 14)\n",
      "('Are', 15)\n",
      "('Arrt', 16)\n",
      "('As', 17)\n",
      "('At', 18)\n",
      "('Be', 19)\n",
      "('Begin', 20)\n",
      "('Burlington', 21)\n",
      "('But', 22)\n",
      "('By', 23)\n",
      "('Carlo', 24)\n",
      "('Chicago', 25)\n",
      "('Claude', 26)\n",
      "('Come', 27)\n",
      "('Croft', 28)\n",
      "('Destroyed', 29)\n",
      "('Devonshire', 30)\n",
      "('Don', 31)\n",
      "('Dubarry', 32)\n",
      "('Emperors', 33)\n",
      "('Florence', 34)\n",
      "('For', 35)\n",
      "('Gallery', 36)\n",
      "('Gideon', 37)\n",
      "('Gisburn', 38)\n",
      "('Gisburns', 39)\n",
      "('Grafton', 40)\n",
      "('Greek', 41)\n",
      "('Grindle', 42)\n",
      "('Grindles', 43)\n",
      "('HAD', 44)\n",
      "('Had', 45)\n",
      "('Hang', 46)\n",
      "('Has', 47)\n",
      "('He', 48)\n",
      "('Her', 49)\n",
      "('Hermia', 50)\n"
     ]
    }
   ],
   "source": [
    "vocab = {token:integer for integer,token in enumerate(all_words)} \n",
    "\n",
    "for i, item in enumerate(vocab.items()):    \n",
    "    print(item)    \n",
    "    if i >= 50: \n",
    "        break"
   ]
  },
  {
   "cell_type": "markdown",
   "id": "d7e430dc-8ea5-42b0-bd8c-dfe23c932afe",
   "metadata": {},
   "source": [
    "实现一个简单的文本tokenizer"
   ]
  },
  {
   "cell_type": "code",
   "execution_count": 14,
   "id": "1fd49dbc-a2a0-43f6-aa71-2f7d79c20979",
   "metadata": {},
   "outputs": [],
   "source": [
    "class SimpleTokenizerV1:\n",
    "    def __init__(self, vocab):\n",
    "        self.str_to_int = vocab # 将词汇表存储为类属性，以便在编码和解码方法中访问\n",
    "        self.int_to_str = {i:s for s,i in vocab.items()} # 创建一个逆向词汇表，将token ID 映射回原始文本 tokens\n",
    "    \n",
    "    # 将输入文本处理成token IDs\n",
    "    def encode(self, text):\n",
    "        # 分词\n",
    "        preprocessed = re.split(r'([,.?_!\"()\\']|--|\\s)', text)\n",
    "        # 处理空格\n",
    "        preprocessed = [\n",
    "            item.strip() for item in preprocessed if item.strip()\n",
    "        ]\n",
    "        # 使用词汇表将tokens映射为token IDs\n",
    "        ids = [self.str_to_int[s] for s in preprocessed]\n",
    "        return ids\n",
    "\n",
    "    # 将token IDs映射回文本\n",
    "    def decode(self, ids):\n",
    "        # 将ids中的tokenIDs通过词汇表反向映射并连接起来\n",
    "        text = \" \".join([self.int_to_str[i] for i in ids])\n",
    "        # 删除指定标点符号前的空格\n",
    "        text = re.sub(r'\\s+([,.?!\"()\\'])', r'\\1', text)\n",
    "        return text            "
   ]
  },
  {
   "cell_type": "markdown",
   "id": "bb7b1a6f-ba26-4b92-9c52-acd8aba1e1f8",
   "metadata": {},
   "source": [
    "实例化tokenizer对象并进行编解码"
   ]
  },
  {
   "cell_type": "code",
   "execution_count": 15,
   "id": "9f190193-acde-416d-b48d-764c48e18edf",
   "metadata": {},
   "outputs": [
    {
     "name": "stdout",
     "output_type": "stream",
     "text": [
      "[1, 56, 2, 850, 988, 602, 533, 746, 5, 1126, 596, 5, 1, 67, 7, 38, 851, 1108, 754, 793, 7]\n"
     ]
    }
   ],
   "source": [
    "tokenizer = SimpleTokenizerV1(vocab)\n",
    "text = \"\"\"\"It's the last he painted, you know,\" \n",
    "    Mrs. Gisburn said with pardonable pride.\"\"\"\n",
    "ids = tokenizer.encode(text)\n",
    "print(ids)"
   ]
  },
  {
   "cell_type": "code",
   "execution_count": 16,
   "id": "785dba19-5588-487f-b74b-90f7306f68ef",
   "metadata": {},
   "outputs": [
    {
     "name": "stdout",
     "output_type": "stream",
     "text": [
      "\" It' s the last he painted, you know,\" Mrs. Gisburn said with pardonable pride.\n"
     ]
    }
   ],
   "source": [
    "print(tokenizer.decode(ids))"
   ]
  },
  {
   "cell_type": "markdown",
   "id": "71633846-36b6-4a21-a429-e8413cda6180",
   "metadata": {},
   "source": [
    "使用文中未出现过的词进行编码会报错"
   ]
  },
  {
   "cell_type": "code",
   "execution_count": 17,
   "id": "80cf0118-4278-42dd-a4d4-afd83cfea5f2",
   "metadata": {},
   "outputs": [
    {
     "ename": "KeyError",
     "evalue": "'Hello'",
     "output_type": "error",
     "traceback": [
      "\u001b[31m---------------------------------------------------------------------------\u001b[39m",
      "\u001b[31mKeyError\u001b[39m                                  Traceback (most recent call last)",
      "\u001b[36mCell\u001b[39m\u001b[36m \u001b[39m\u001b[32mIn[17]\u001b[39m\u001b[32m, line 2\u001b[39m\n\u001b[32m      1\u001b[39m text = \u001b[33m\"\u001b[39m\u001b[33mHello, do you like tea?\u001b[39m\u001b[33m\"\u001b[39m\n\u001b[32m----> \u001b[39m\u001b[32m2\u001b[39m \u001b[38;5;28mprint\u001b[39m(\u001b[43mtokenizer\u001b[49m\u001b[43m.\u001b[49m\u001b[43mencode\u001b[49m\u001b[43m(\u001b[49m\u001b[43mtext\u001b[49m\u001b[43m)\u001b[49m)\n",
      "\u001b[36mCell\u001b[39m\u001b[36m \u001b[39m\u001b[32mIn[14]\u001b[39m\u001b[32m, line 15\u001b[39m, in \u001b[36mSimpleTokenizerV1.encode\u001b[39m\u001b[34m(self, text)\u001b[39m\n\u001b[32m     11\u001b[39m preprocessed = [\n\u001b[32m     12\u001b[39m     item.strip() \u001b[38;5;28;01mfor\u001b[39;00m item \u001b[38;5;129;01min\u001b[39;00m preprocessed \u001b[38;5;28;01mif\u001b[39;00m item.strip()\n\u001b[32m     13\u001b[39m ]\n\u001b[32m     14\u001b[39m \u001b[38;5;66;03m# 使用词汇表将tokens映射为token IDs\u001b[39;00m\n\u001b[32m---> \u001b[39m\u001b[32m15\u001b[39m ids = [\u001b[38;5;28;43mself\u001b[39;49m\u001b[43m.\u001b[49m\u001b[43mstr_to_int\u001b[49m\u001b[43m[\u001b[49m\u001b[43ms\u001b[49m\u001b[43m]\u001b[49m \u001b[38;5;28;01mfor\u001b[39;00m s \u001b[38;5;129;01min\u001b[39;00m preprocessed]\n\u001b[32m     16\u001b[39m \u001b[38;5;28;01mreturn\u001b[39;00m ids\n",
      "\u001b[31mKeyError\u001b[39m: 'Hello'"
     ]
    }
   ],
   "source": [
    "text = \"Hello, do you like tea?\"\n",
    "print(tokenizer.encode(text))"
   ]
  },
  {
   "cell_type": "markdown",
   "id": "a3ee58e6-98e8-43a4-95be-bb1e4ad453b9",
   "metadata": {},
   "source": [
    "加入两个特殊标记"
   ]
  },
  {
   "cell_type": "code",
   "execution_count": 18,
   "id": "516ef848-9702-46df-a8ca-0a64e2e89110",
   "metadata": {},
   "outputs": [
    {
     "name": "stdout",
     "output_type": "stream",
     "text": [
      "1132\n"
     ]
    }
   ],
   "source": [
    "all_tokens = sorted(list(set(preprocessed))) \n",
    "\n",
    "all_tokens.extend([\"<|endoftext|>\", \"<|unk|>\"]) \n",
    "\n",
    "vocab = {token:integer for integer,token in enumerate(all_tokens)} \n",
    "\n",
    "print(len(vocab.items()))"
   ]
  },
  {
   "cell_type": "markdown",
   "id": "547b30b4-e254-4f53-82e6-3470fb82854e",
   "metadata": {},
   "source": [
    "查看加入的两个特殊标记"
   ]
  },
  {
   "cell_type": "code",
   "execution_count": 19,
   "id": "96085b5e-0cc8-4972-a13d-907bdfdf8f66",
   "metadata": {},
   "outputs": [
    {
     "name": "stdout",
     "output_type": "stream",
     "text": [
      "('younger', 1127)\n",
      "('your', 1128)\n",
      "('yourself', 1129)\n",
      "('<|endoftext|>', 1130)\n",
      "('<|unk|>', 1131)\n"
     ]
    }
   ],
   "source": [
    "for i, item in enumerate(list(vocab.items())[-5:]):\n",
    "    print(item)"
   ]
  },
  {
   "cell_type": "markdown",
   "id": "57b42384-4e1b-44db-a47a-f46a6a492167",
   "metadata": {},
   "source": [
    "可以处理未知单词的tokenizer"
   ]
  },
  {
   "cell_type": "code",
   "execution_count": 20,
   "id": "ef7a6b1f-dd05-41bc-8629-bb8b0b762d00",
   "metadata": {},
   "outputs": [],
   "source": [
    "class SimpleTokenizerV2:\n",
    "    def __init__(self, vocab):\n",
    "        self.str_to_int = vocab # 将词汇表存储为类属性，以便在编码和解码方法中访问\n",
    "        self.int_to_str = {i:s for s,i in vocab.items()} # 创建一个逆向词汇表，将token ID 映射回原始文本 tokens\n",
    "    \n",
    "    # 将输入文本处理成token IDs\n",
    "    def encode(self, text):\n",
    "        # 分词\n",
    "        preprocessed = re.split(r'([,.?_!\"()\\']|--|\\s)', text)\n",
    "        # 处理空格\n",
    "        preprocessed = [\n",
    "            item.strip() for item in preprocessed if item.strip()\n",
    "        ]\n",
    "        # 将未知单词替换为 <|unk|>字符\n",
    "        preprocessed = [item if item in self.str_to_int \n",
    "                        else \"<|unk|>\" for item in preprocessed]\n",
    "        # 使用词汇表将tokens映射为token IDs\n",
    "        ids = [self.str_to_int[s] for s in preprocessed]\n",
    "        return ids\n",
    "\n",
    "    # 将token IDs映射回文本\n",
    "    def decode(self, ids):\n",
    "        # 将ids中的tokenIDs通过词汇表反向映射并连接起来\n",
    "        text = \" \".join([self.int_to_str[i] for i in ids])\n",
    "        # 删除指定标点符号前的空格\n",
    "        text = re.sub(r'\\s+([,.:;?!\"()\\'])', r'\\1', text)\n",
    "        return text            "
   ]
  },
  {
   "cell_type": "markdown",
   "id": "35b84b48-7e5e-4537-8a33-39ce7ab61c84",
   "metadata": {},
   "source": [
    "测试新的tokenizer"
   ]
  },
  {
   "cell_type": "code",
   "execution_count": 21,
   "id": "eb62dac9-1233-4c6d-99af-68c18290c5f2",
   "metadata": {},
   "outputs": [
    {
     "name": "stdout",
     "output_type": "stream",
     "text": [
      "Hello, do you like tea? <|endoftext|> In the sunlit terraces of the palace.\n"
     ]
    }
   ],
   "source": [
    "text1 = \"Hello, do you like tea?\"\n",
    "text2 = \"In the sunlit terraces of the palace.\"\n",
    "text = \" <|endoftext|> \".join((text1, text2))\n",
    "print(text)"
   ]
  },
  {
   "cell_type": "code",
   "execution_count": 22,
   "id": "9ecad0fa-cfc4-45f3-88ff-4bdc1445230b",
   "metadata": {},
   "outputs": [
    {
     "name": "stdout",
     "output_type": "stream",
     "text": [
      "[1131, 5, 355, 1126, 628, 975, 10, 1130, 55, 988, 956, 984, 722, 988, 1131, 7]\n"
     ]
    }
   ],
   "source": [
    "tokenizer = SimpleTokenizerV2(vocab)\n",
    "print(tokenizer.encode(text))"
   ]
  },
  {
   "cell_type": "code",
   "execution_count": 23,
   "id": "329624e8-ad31-4499-a085-4a0b6ca74f1d",
   "metadata": {},
   "outputs": [
    {
     "name": "stdout",
     "output_type": "stream",
     "text": [
      "<|unk|>, do you like tea? <|endoftext|> In the sunlit terraces of the <|unk|>.\n"
     ]
    }
   ],
   "source": [
    "print(tokenizer.decode(tokenizer.encode(text)))"
   ]
  },
  {
   "cell_type": "code",
   "execution_count": null,
   "id": "0cbee2c5-5275-4293-b99b-7f83bf620bc4",
   "metadata": {},
   "outputs": [],
   "source": []
  }
 ],
 "metadata": {
  "kernelspec": {
   "display_name": "Python 3 (ipykernel)",
   "language": "python",
   "name": "python3"
  },
  "language_info": {
   "codemirror_mode": {
    "name": "ipython",
    "version": 3
   },
   "file_extension": ".py",
   "mimetype": "text/x-python",
   "name": "python",
   "nbconvert_exporter": "python",
   "pygments_lexer": "ipython3",
   "version": "3.12.11"
  }
 },
 "nbformat": 4,
 "nbformat_minor": 5
}
