{
 "cells": [
  {
   "cell_type": "markdown",
   "id": "f1b243f7-ed3c-43ee-aac9-6755304929ec",
   "metadata": {},
   "source": [
    "实现批量输入和目标的数据集类"
   ]
  },
  {
   "cell_type": "code",
   "execution_count": 5,
   "id": "fa57db78-d24e-4acc-8dd4-da62c95181e5",
   "metadata": {},
   "outputs": [],
   "source": [
    "import torch\n",
    "from torch.utils.data import Dataset, DataLoader\n",
    "\n",
    "class GPTDatasetV1(Dataset):\n",
    "    def __init__(self, txt, tokenizer, max_length, stride):\n",
    "        self.input_ids = []\n",
    "        self.target_ids = []\n",
    "\n",
    "        token_ids = tokenizer.encode(txt) # 编码整个文本\n",
    "        # 循环遍历数据，使用滑动窗口将数据分成重叠的最大长度序列\n",
    "        # 假设token_ids的长度大于max_length\n",
    "        for i in range(0,len(token_ids) - max_length, stride):\n",
    "            # 输入的区域是i到i+maxlength，左闭右开，因此最后一个token不参与输入\n",
    "            input_chunk = token_ids[i:i + max_length]\n",
    "            # 第一个token不作为预测目标\n",
    "            target_chunk = token_ids[i+1:i + max_length + 1]\n",
    "            self.input_ids.append(torch.tensor(input_chunk))\n",
    "            self.target_ids.append(torch.tensor(target_chunk))\n",
    "    # 返回数据集的行数\n",
    "    def __len__(self):\n",
    "        return len(self.input_ids)\n",
    "    # 返回数据集中单独一行数据\n",
    "    def __getitem__(self, idx):\n",
    "        return self.input_ids[idx],self.target_ids[idx]"
   ]
  },
  {
   "cell_type": "markdown",
   "id": "5ef14cca-f3ed-43bd-b796-63a621e05403",
   "metadata": {},
   "source": [
    "数据加载器，用于生成具有输入对的批次"
   ]
  },
  {
   "cell_type": "code",
   "execution_count": 6,
   "id": "41a97208-1af3-43c5-9a84-21551eb73eda",
   "metadata": {},
   "outputs": [],
   "source": [
    "import tiktoken\n",
    "def create_dataloader_v1(txt, \n",
    "                         batch_size=4, \n",
    "                         max_length=256, \n",
    "                         stride=8, \n",
    "                         shuffle=True, \n",
    "                         drop_last=True, \n",
    "                         num_workers=0):\n",
    "    tokenizer = tiktoken.get_encoding(\"gpt2\") # 初始化tokenizer\n",
    "    dataset = GPTDatasetV1(txt, tokenizer, max_length, stride) # 创建数据集\n",
    "    dataloader = DataLoader(\n",
    "        dataset,\n",
    "        batch_size=batch_size,\n",
    "        shuffle=shuffle,\n",
    "        drop_last=drop_last, # drop_last=True时，如果最后一个批次小于指定的 batch_size，则丢弃它，以防止训练期间出现损失峰值。\n",
    "        num_workers=num_workers # 用于预处理的 CPU 进程数\n",
    "    )\n",
    "\n",
    "    return dataloader"
   ]
  },
  {
   "cell_type": "markdown",
   "id": "d81f9e0a-86f7-4746-b054-0738b49b9c96",
   "metadata": {},
   "source": [
    "测试Dataset和DataLoader"
   ]
  },
  {
   "cell_type": "code",
   "execution_count": 7,
   "id": "40594651-d21f-4c2e-9bcd-e40959210d3d",
   "metadata": {},
   "outputs": [
    {
     "name": "stdout",
     "output_type": "stream",
     "text": [
      "[tensor([[  40,  367, 2885, 1464]]), tensor([[ 367, 2885, 1464, 1807]])]\n"
     ]
    }
   ],
   "source": [
    "with open(\"the-verdict.txt\", \"r\", encoding=\"utf-8\") as f:\n",
    "    raw_text = f.read()\n",
    "\n",
    "dataloader = create_dataloader_v1(raw_text, batch_size=1, max_length=4, stride=1, shuffle=False)\n",
    "\n",
    "data_iter = iter(dataloader) # 将数据加载器转换为 Python 迭代器，以便通过 Python 内置的 next() 函数获取下一个条目\n",
    "first_batch = next(data_iter)\n",
    "print(first_batch)"
   ]
  },
  {
   "cell_type": "markdown",
   "id": "8a8c331c-521f-415b-aca3-3bd13c5f0b0e",
   "metadata": {},
   "source": [
    "理解 stride=1 的含义"
   ]
  },
  {
   "cell_type": "code",
   "execution_count": 8,
   "id": "9ba31902-5c12-4d04-a8f9-6b3109706f9d",
   "metadata": {},
   "outputs": [
    {
     "name": "stdout",
     "output_type": "stream",
     "text": [
      "[tensor([[ 367, 2885, 1464, 1807]]), tensor([[2885, 1464, 1807, 3619]])]\n"
     ]
    }
   ],
   "source": [
    "second_batch = next(data_iter)\n",
    "print(second_batch)"
   ]
  },
  {
   "cell_type": "markdown",
   "id": "98277b3e-8fe5-4b62-89c9-874b353706dd",
   "metadata": {},
   "source": [
    "练习 2.2 具有不同步长和上下文大小的数据加载器\n",
    "为了更直观地了解数据加载器的工作原理，请尝试使用不同的设置运行它，例如 max_length=2 和 stride=2，以及 max_length=8 和 stride=2。"
   ]
  },
  {
   "cell_type": "code",
   "execution_count": 10,
   "id": "b0d6e840-29b6-4bc9-95c5-af43e4deca61",
   "metadata": {},
   "outputs": [
    {
     "name": "stdout",
     "output_type": "stream",
     "text": [
      "[tensor([[ 40, 367]]), tensor([[ 367, 2885]])]\n",
      "[tensor([[2885, 1464]]), tensor([[1464, 1807]])]\n"
     ]
    }
   ],
   "source": [
    "dataloader2_2 = create_dataloader_v1(raw_text, batch_size=1, max_length=2, stride=2, shuffle=False)\n",
    "\n",
    "data_iter2 = iter(dataloader2_2) \n",
    "first_batch2 = next(data_iter2)\n",
    "print(first_batch2)\n",
    "second_batch2 = next(data_iter2)\n",
    "print(second_batch2)"
   ]
  },
  {
   "cell_type": "code",
   "execution_count": 11,
   "id": "98e4a0dd-9280-46db-984f-4b83771ad841",
   "metadata": {},
   "outputs": [
    {
     "name": "stdout",
     "output_type": "stream",
     "text": [
      "[tensor([[  40,  367, 2885, 1464, 1807, 3619,  402,  271]]), tensor([[  367,  2885,  1464,  1807,  3619,   402,   271, 10899]])]\n",
      "[tensor([[ 2885,  1464,  1807,  3619,   402,   271, 10899,  2138]]), tensor([[ 1464,  1807,  3619,   402,   271, 10899,  2138,   257]])]\n"
     ]
    }
   ],
   "source": [
    "dataloader8_2 = create_dataloader_v1(raw_text, batch_size=1, max_length=8, stride=2, shuffle=False)\n",
    "\n",
    "data_iter3 = iter(dataloader8_2) \n",
    "first_batch3 = next(data_iter3)\n",
    "print(first_batch3)\n",
    "second_batch3 = next(data_iter3)\n",
    "print(second_batch3)"
   ]
  },
  {
   "cell_type": "code",
   "execution_count": 12,
   "id": "4ba813d9-0181-4840-887c-ec58f788b8f7",
   "metadata": {},
   "outputs": [
    {
     "name": "stdout",
     "output_type": "stream",
     "text": [
      "Inputs:\n",
      " tensor([[   40,   367,  2885,  1464],\n",
      "        [ 1807,  3619,   402,   271],\n",
      "        [10899,  2138,   257,  7026],\n",
      "        [15632,   438,  2016,   257],\n",
      "        [  922,  5891,  1576,   438],\n",
      "        [  568,   340,   373,   645],\n",
      "        [ 1049,  5975,   284,   502],\n",
      "        [  284,  3285,   326,    11]])\n",
      "\n",
      "Targets:\n",
      " tensor([[  367,  2885,  1464,  1807],\n",
      "        [ 3619,   402,   271, 10899],\n",
      "        [ 2138,   257,  7026, 15632],\n",
      "        [  438,  2016,   257,   922],\n",
      "        [ 5891,  1576,   438,   568],\n",
      "        [  340,   373,   645,  1049],\n",
      "        [ 5975,   284,   502,   284],\n",
      "        [ 3285,   326,    11,   287]])\n"
     ]
    }
   ],
   "source": [
    "dataloader = create_dataloader_v1(raw_text, batch_size=8, max_length=4, stride=4, shuffle=False)\n",
    "data_iter = iter(dataloader) # 将数据加载器转换为 Python 迭代器，以便通过 Python 内置的 next() 函数获取下一个条目\n",
    "inputs, targets = next(data_iter)\n",
    "print(\"Inputs:\\n\", inputs)\n",
    "print(\"\\nTargets:\\n\", targets)"
   ]
  },
  {
   "cell_type": "code",
   "execution_count": null,
   "id": "a359c81e-a92d-4916-845b-1c29402de373",
   "metadata": {},
   "outputs": [],
   "source": []
  }
 ],
 "metadata": {
  "kernelspec": {
   "display_name": "Python 3 (ipykernel)",
   "language": "python",
   "name": "python3"
  },
  "language_info": {
   "codemirror_mode": {
    "name": "ipython",
    "version": 3
   },
   "file_extension": ".py",
   "mimetype": "text/x-python",
   "name": "python",
   "nbconvert_exporter": "python",
   "pygments_lexer": "ipython3",
   "version": "3.12.11"
  }
 },
 "nbformat": 4,
 "nbformat_minor": 5
}
