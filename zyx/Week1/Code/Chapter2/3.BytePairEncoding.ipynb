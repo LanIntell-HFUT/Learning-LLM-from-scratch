{
 "cells": [
  {
   "cell_type": "markdown",
   "id": "4d8d4a9f-2ed8-4173-8bd7-88afe6faa7cd",
   "metadata": {},
   "source": [
    "安装tiktoken包，该包基于RUST算法实现了BPE算法"
   ]
  },
  {
   "cell_type": "code",
   "execution_count": 1,
   "id": "e06f67df-d342-4ce5-b4de-e0635c781596",
   "metadata": {},
   "outputs": [
    {
     "name": "stdout",
     "output_type": "stream",
     "text": [
      "Collecting tiktoken\n",
      "  Downloading tiktoken-0.9.0-cp312-cp312-manylinux_2_17_x86_64.manylinux2014_x86_64.whl.metadata (6.7 kB)\n",
      "Requirement already satisfied: regex>=2022.1.18 in /home/share/anaconda/envs/zyx/lib/python3.12/site-packages (from tiktoken) (2025.7.34)\n",
      "Requirement already satisfied: requests>=2.26.0 in /home/share/anaconda/envs/zyx/lib/python3.12/site-packages (from tiktoken) (2.32.4)\n",
      "Requirement already satisfied: charset_normalizer<4,>=2 in /home/share/anaconda/envs/zyx/lib/python3.12/site-packages (from requests>=2.26.0->tiktoken) (3.4.2)\n",
      "Requirement already satisfied: idna<4,>=2.5 in /home/share/anaconda/envs/zyx/lib/python3.12/site-packages (from requests>=2.26.0->tiktoken) (3.10)\n",
      "Requirement already satisfied: urllib3<3,>=1.21.1 in /home/share/anaconda/envs/zyx/lib/python3.12/site-packages (from requests>=2.26.0->tiktoken) (2.5.0)\n",
      "Requirement already satisfied: certifi>=2017.4.17 in /home/share/anaconda/envs/zyx/lib/python3.12/site-packages (from requests>=2.26.0->tiktoken) (2025.8.3)\n",
      "Downloading tiktoken-0.9.0-cp312-cp312-manylinux_2_17_x86_64.manylinux2014_x86_64.whl (1.2 MB)\n",
      "\u001b[2K   \u001b[90m━━━━━━━━━━━━━━━━━━━━━━━━━━━━━━━━━━━━━━━━\u001b[0m \u001b[32m1.2/1.2 MB\u001b[0m \u001b[31m6.2 MB/s\u001b[0m eta \u001b[36m0:00:00\u001b[0m-:--:--\u001b[0m\n",
      "\u001b[?25hInstalling collected packages: tiktoken\n",
      "Successfully installed tiktoken-0.9.0\n"
     ]
    }
   ],
   "source": [
    "!pip install tiktoken"
   ]
  },
  {
   "cell_type": "markdown",
   "id": "98c61287-c814-4da1-a9f1-cbfbbe31fb27",
   "metadata": {},
   "source": [
    "引入包，并检查版本"
   ]
  },
  {
   "cell_type": "code",
   "execution_count": 3,
   "id": "161997c9-2033-4d7a-a486-e3146819a438",
   "metadata": {},
   "outputs": [
    {
     "name": "stdout",
     "output_type": "stream",
     "text": [
      "tiktoken version: 0.9.0\n"
     ]
    }
   ],
   "source": [
    "from importlib.metadata import version\n",
    "import tiktoken\n",
    "print(\"tiktoken version:\",version(\"tiktoken\"))"
   ]
  },
  {
   "cell_type": "markdown",
   "id": "43302abf-38a9-45f0-8a02-9b44c447ce87",
   "metadata": {},
   "source": [
    "使用tiktoken包实例化BPE tokenizer"
   ]
  },
  {
   "cell_type": "code",
   "execution_count": 4,
   "id": "3e44806d-9657-43e7-95d4-f3304ea2f091",
   "metadata": {},
   "outputs": [],
   "source": [
    "tokenizer = tiktoken.get_encoding(\"gpt2\")"
   ]
  },
  {
   "cell_type": "markdown",
   "id": "bf7d9020-faa4-497a-bc50-b28f483a93a9",
   "metadata": {},
   "source": [
    "将文本编码为Token IDs"
   ]
  },
  {
   "cell_type": "code",
   "execution_count": 5,
   "id": "72adc4d8-6984-41fc-add3-77222b68a328",
   "metadata": {},
   "outputs": [
    {
     "name": "stdout",
     "output_type": "stream",
     "text": [
      "[15496, 11, 466, 345, 588, 8887, 30, 220, 50256, 554, 262, 4252, 18250, 8812, 2114, 1659, 617, 34680, 27271, 13]\n"
     ]
    }
   ],
   "source": [
    "text = (    \"Hello, do you like tea? <|endoftext|> In the sunlit terraces\"     \"of someunknownPlace.\" )\n",
    "integers = tokenizer.encode(text, allowed_special={\"<|endoftext|>\"}) \n",
    "print(integers)"
   ]
  },
  {
   "cell_type": "markdown",
   "id": "aed43456-4475-457a-ae8d-2eb4485223cc",
   "metadata": {},
   "source": [
    "将Token IDs解码为文本"
   ]
  },
  {
   "cell_type": "code",
   "execution_count": 6,
   "id": "4c1aa5db-6630-49d7-82c3-3f2d7f71e135",
   "metadata": {},
   "outputs": [
    {
     "name": "stdout",
     "output_type": "stream",
     "text": [
      "Hello, do you like tea? <|endoftext|> In the sunlit terracesof someunknownPlace.\n"
     ]
    }
   ],
   "source": [
    "strings = tokenizer.decode(integers)\n",
    "print(strings)"
   ]
  },
  {
   "cell_type": "markdown",
   "id": "70e7b4fa-af02-4753-91d5-a87a54200c4c",
   "metadata": {},
   "source": [
    "练习2.1"
   ]
  },
  {
   "cell_type": "code",
   "execution_count": 8,
   "id": "226a193a-8a52-44db-af9a-a9f836e3ad15",
   "metadata": {},
   "outputs": [
    {
     "name": "stdout",
     "output_type": "stream",
     "text": [
      "[33901, 86, 343, 86, 220, 959]\n"
     ]
    }
   ],
   "source": [
    "text2 = \"Akwirw ier\"\n",
    "ids = tokenizer.encode(text2, allowed_special={\"<|endoftext|>\"}) \n",
    "print(ids)"
   ]
  },
  {
   "cell_type": "code",
   "execution_count": 18,
   "id": "e6306705-ec07-430c-b6ca-9d1b8555ba4e",
   "metadata": {},
   "outputs": [
    {
     "name": "stdout",
     "output_type": "stream",
     "text": [
      "Ak\n",
      "w\n",
      "ir\n",
      "w\n",
      " \n",
      "ier\n"
     ]
    }
   ],
   "source": [
    "for i in ids:\n",
    "    print(tokenizer.decode([i]))"
   ]
  },
  {
   "cell_type": "code",
   "execution_count": 19,
   "id": "343102c1-1daa-4708-9288-d764376be020",
   "metadata": {},
   "outputs": [
    {
     "data": {
      "text/plain": [
       "'Akwirw ier'"
      ]
     },
     "execution_count": 19,
     "metadata": {},
     "output_type": "execute_result"
    }
   ],
   "source": [
    "tokenizer.decode(ids)"
   ]
  },
  {
   "cell_type": "markdown",
   "id": "6d0931a0-e2fd-4e88-ab89-c4cc397c0234",
   "metadata": {},
   "source": [
    "使用 BPE 分词器对整个短篇小说《判决》进行分词"
   ]
  },
  {
   "cell_type": "code",
   "execution_count": 20,
   "id": "df4847b6-6ef7-44c1-8168-a230114213a0",
   "metadata": {},
   "outputs": [
    {
     "name": "stdout",
     "output_type": "stream",
     "text": [
      "5145\n"
     ]
    }
   ],
   "source": [
    "with open(\"the-verdict.txt\", \"r\", encoding=\"utf-8\") as f:\n",
    "    raw_text = f.read()\n",
    "\n",
    "enc_text = tokenizer.encode(raw_text)\n",
    "print(len(enc_text))"
   ]
  },
  {
   "cell_type": "markdown",
   "id": "a7d9e8d4-3ea0-4b21-832e-0686d49bff55",
   "metadata": {},
   "source": [
    "为了演示的目的，从数据集中删除前 50 个标记"
   ]
  },
  {
   "cell_type": "code",
   "execution_count": 21,
   "id": "6e61bb38-6dd9-401a-b477-9ea372c06a12",
   "metadata": {},
   "outputs": [],
   "source": [
    "enc_sample = enc_text[50:]"
   ]
  },
  {
   "cell_type": "markdown",
   "id": "156a9338-17cc-42f6-9b13-5bbda7f45d7e",
   "metadata": {},
   "source": [
    "创建输入-目标对"
   ]
  },
  {
   "cell_type": "code",
   "execution_count": 22,
   "id": "b50eb2b1-6306-400d-ba75-4cccbe0d8dcc",
   "metadata": {},
   "outputs": [
    {
     "name": "stdout",
     "output_type": "stream",
     "text": [
      "x: [290, 4920, 2241, 287]\n",
      "y: \t[4920, 2241, 287, 257]\n"
     ]
    }
   ],
   "source": [
    "# context_size决定输入中要包含多少个tokens\n",
    "context_size = 4\n",
    "x = enc_sample[:context_size]\n",
    "y = enc_sample[1:context_size+1]\n",
    "print(f\"x: {x}\")\n",
    "print(f\"y: \\t{y}\")"
   ]
  },
  {
   "cell_type": "markdown",
   "id": "2af61416-5538-4f27-a9da-ff105bae6bb5",
   "metadata": {},
   "source": [
    "创建下一个单词预测任务"
   ]
  },
  {
   "cell_type": "code",
   "execution_count": 24,
   "id": "c53e5a82-a5d5-4bbd-96d3-bda171ec5254",
   "metadata": {},
   "outputs": [
    {
     "name": "stdout",
     "output_type": "stream",
     "text": [
      "[290] ----> 4920\n",
      "[290, 4920] ----> 2241\n",
      "[290, 4920, 2241] ----> 287\n",
      "[290, 4920, 2241, 287] ----> 257\n"
     ]
    }
   ],
   "source": [
    "for i in range(1, context_size+1):\n",
    "    context = enc_sample[:i] # 上下文\n",
    "    desire = enc_sample[i] # 预测目标\n",
    "    print(context,\"---->\", desire)"
   ]
  },
  {
   "cell_type": "markdown",
   "id": "39615aca-6676-4bac-a0ca-8ef321d7d93d",
   "metadata": {},
   "source": [
    "将token IDs转换为文本"
   ]
  },
  {
   "cell_type": "code",
   "execution_count": 25,
   "id": "e340c3fa-2343-435e-8ff3-bd2ccab7e45b",
   "metadata": {},
   "outputs": [
    {
     "name": "stdout",
     "output_type": "stream",
     "text": [
      " and ---->  established\n",
      " and established ---->  himself\n",
      " and established himself ---->  in\n",
      " and established himself in ---->  a\n"
     ]
    }
   ],
   "source": [
    "for i in range(1, context_size+1):\n",
    "    context = enc_sample[:i] # 上下文\n",
    "    desire = enc_sample[i] # 预测目标\n",
    "    print(tokenizer.decode(context),\"---->\", tokenizer.decode([desire]))"
   ]
  },
  {
   "cell_type": "code",
   "execution_count": null,
   "id": "b3ef3118-a375-4282-9970-1b0e5592aee7",
   "metadata": {},
   "outputs": [],
   "source": []
  }
 ],
 "metadata": {
  "kernelspec": {
   "display_name": "Python 3 (ipykernel)",
   "language": "python",
   "name": "python3"
  },
  "language_info": {
   "codemirror_mode": {
    "name": "ipython",
    "version": 3
   },
   "file_extension": ".py",
   "mimetype": "text/x-python",
   "name": "python",
   "nbconvert_exporter": "python",
   "pygments_lexer": "ipython3",
   "version": "3.12.11"
  }
 },
 "nbformat": 4,
 "nbformat_minor": 5
}
